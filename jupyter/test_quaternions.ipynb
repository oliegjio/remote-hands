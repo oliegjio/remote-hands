{
 "cells": [
  {
   "cell_type": "code",
   "execution_count": 2,
   "metadata": {},
   "outputs": [],
   "source": [
    "from pyquaternion import Quaternion"
   ]
  },
  {
   "cell_type": "code",
   "execution_count": 3,
   "metadata": {},
   "outputs": [],
   "source": [
    "# Vec (1, 1, 1) rotated around (0, 0, 1) on 36 degrees:\n",
    "v1 = [1, 1, 1]\n",
    "ax1 = [0, 0, 1]\n",
    "an1 = 36\n",
    "v2 = [0.221232, 1.396802, 1]"
   ]
  },
  {
   "cell_type": "code",
   "execution_count": 5,
   "metadata": {},
   "outputs": [
    {
     "name": "stdout",
     "output_type": "stream",
     "text": [
      "[-1.4136283490307013, 0.04067328170598927, 1.0]\n"
     ]
    }
   ],
   "source": [
    "q1 = Quaternion(axis=ax1, angle=-an1)\n",
    "r1 = q1.rotate(v2)\n",
    "print(r1)"
   ]
  },
  {
   "cell_type": "code",
   "execution_count": 6,
   "metadata": {},
   "outputs": [
    {
     "name": "stdout",
     "output_type": "stream",
     "text": [
      "[-1.1197425430705208, 0.8638151638157112, 1.0]\n"
     ]
    }
   ],
   "source": [
    "q2 = Quaternion(axis=[0, 0, 1], angle=-36)\n",
    "r2 = q2.rotate([1, 1, 1])\n",
    "print(r2)"
   ]
  },
  {
   "cell_type": "code",
   "execution_count": 8,
   "metadata": {},
   "outputs": [
    {
     "name": "stdout",
     "output_type": "stream",
     "text": [
      "[1.0, 0.9999974987988979, 0.9999995121103553]\n"
     ]
    }
   ],
   "source": [
    "q3 = Quaternion(axis=[1, 0, 0], angle=-36)\n",
    "r3 = q3.rotate([1.0, 0.863815, -1.11974])\n",
    "print(r3)"
   ]
  },
  {
   "cell_type": "code",
   "execution_count": null,
   "metadata": {},
   "outputs": [],
   "source": []
  }
 ],
 "metadata": {
  "kernelspec": {
   "display_name": "Python 3",
   "language": "python",
   "name": "python3"
  },
  "language_info": {
   "codemirror_mode": {
    "name": "ipython",
    "version": 3
   },
   "file_extension": ".py",
   "mimetype": "text/x-python",
   "name": "python",
   "nbconvert_exporter": "python",
   "pygments_lexer": "ipython3",
   "version": "3.7.0"
  }
 },
 "nbformat": 4,
 "nbformat_minor": 2
}
